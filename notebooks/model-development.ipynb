{
 "cells": [
  {
   "cell_type": "markdown",
   "id": "cdf98e77",
   "metadata": {},
   "source": [
    "# Desenvolvimento do modelo de score de crédito\n",
    "\n",
    "Exploração inicial de modelos de base"
   ]
  },
  {
   "cell_type": "code",
   "execution_count": 1,
   "id": "08b41761",
   "metadata": {},
   "outputs": [],
   "source": [
    "import pandas as pd\n",
    "from dagshub.data_engine import datasources\n",
    "import mlflow\n",
    "import dagshub\n",
    "from sklearn.model_selection import train_test_split\n",
    "import mlflow.sklearn\n",
    "import mlflow.catboost\n",
    "from sklearn.linear_model import Ridge\n",
    "from sklearn.model_selection import GridSearchCV\n",
    "from sklearn.metrics import accuracy_score, f1_score, precision_score, recall_score, roc_auc_score, classification_report, ConfusionMatrixDisplay\n",
    "from sklearn.tree import DecisionTreeClassifier\n",
    "from sklearn.neural_network import MLPRegressor\n",
    "from sklearn.preprocessing import StandardScaler\n",
    "from xgboost import XGBClassifier\n",
    "import lightgbm as lgb\n",
    "from sklearn.svm import SVR\n",
    "from sklearn.gaussian_process import GaussianProcessRegressor\n",
    "from sklearn.gaussian_process.kernels import RBF, ConstantKernel as C\n",
    "import mlflow.models.signature\n",
    "from mlflow.models import infer_signature\n",
    "from catboost import CatBoostRegressor\n",
    "import matplotlib.pyplot as plt\n",
    "from sklearn.linear_model import LogisticRegression\n",
    "from sklearn.tree import DecisionTreeClassifier\n",
    "from xgboost import XGBClassifier"
   ]
  },
  {
   "cell_type": "markdown",
   "id": "1f95a9b9",
   "metadata": {},
   "source": [
    "## Carregando Dataset"
   ]
  },
  {
   "cell_type": "code",
   "execution_count": 2,
   "id": "d8001393",
   "metadata": {},
   "outputs": [
    {
     "data": {
      "text/html": [
       "<pre style=\"white-space:pre;overflow-x:auto;line-height:normal;font-family:Menlo,'DejaVu Sans Mono',consolas,'Courier New',monospace\">Accessing as pedromonnt\n",
       "</pre>\n"
      ],
      "text/plain": [
       "Accessing as pedromonnt\n"
      ]
     },
     "metadata": {},
     "output_type": "display_data"
    }
   ],
   "source": [
    "ds = datasources.get_datasource(\"pedromonnt/fiap-credit-score-classification-model\", \"processed\")"
   ]
  },
  {
   "cell_type": "code",
   "execution_count": 3,
   "id": "895db0f2",
   "metadata": {},
   "outputs": [
    {
     "data": {
      "application/vnd.jupyter.widget-view+json": {
       "model_id": "915c8bf928cd4652acac344c3d614731",
       "version_major": 2,
       "version_minor": 0
      },
      "text/plain": [
       "Output()"
      ]
     },
     "metadata": {},
     "output_type": "display_data"
    },
    {
     "data": {
      "text/html": [
       "<pre style=\"white-space:pre;overflow-x:auto;line-height:normal;font-family:Menlo,'DejaVu Sans Mono',consolas,'Courier New',monospace\"></pre>\n"
      ],
      "text/plain": []
     },
     "metadata": {},
     "output_type": "display_data"
    },
    {
     "data": {
      "text/html": [
       "<div>\n",
       "<style scoped>\n",
       "    .dataframe tbody tr th:only-of-type {\n",
       "        vertical-align: middle;\n",
       "    }\n",
       "\n",
       "    .dataframe tbody tr th {\n",
       "        vertical-align: top;\n",
       "    }\n",
       "\n",
       "    .dataframe thead th {\n",
       "        text-align: right;\n",
       "    }\n",
       "</style>\n",
       "<table border=\"1\" class=\"dataframe\">\n",
       "  <thead>\n",
       "    <tr style=\"text-align: right;\">\n",
       "      <th></th>\n",
       "      <th>path</th>\n",
       "      <th>datapoint_id</th>\n",
       "      <th>dagshub_download_url</th>\n",
       "      <th>media type</th>\n",
       "      <th>size</th>\n",
       "    </tr>\n",
       "  </thead>\n",
       "  <tbody>\n",
       "    <tr>\n",
       "      <th>0</th>\n",
       "      <td>train-processed.csv</td>\n",
       "      <td>103365851</td>\n",
       "      <td>https://dagshub.com/api/v1/repos/pedromonnt/fi...</td>\n",
       "      <td>text/plain</td>\n",
       "      <td>16635276</td>\n",
       "    </tr>\n",
       "  </tbody>\n",
       "</table>\n",
       "</div>"
      ],
      "text/plain": [
       "                  path  datapoint_id  \\\n",
       "0  train-processed.csv     103365851   \n",
       "\n",
       "                                dagshub_download_url  media type      size  \n",
       "0  https://dagshub.com/api/v1/repos/pedromonnt/fi...  text/plain  16635276  "
      ]
     },
     "execution_count": 3,
     "metadata": {},
     "output_type": "execute_result"
    }
   ],
   "source": [
    "ds.all().dataframe"
   ]
  },
  {
   "cell_type": "code",
   "execution_count": 4,
   "id": "3b1113b7",
   "metadata": {},
   "outputs": [
    {
     "data": {
      "application/vnd.jupyter.widget-view+json": {
       "model_id": "3fe4ede868114fad813d138d500010e8",
       "version_major": 2,
       "version_minor": 0
      },
      "text/plain": [
       "Output()"
      ]
     },
     "metadata": {},
     "output_type": "display_data"
    },
    {
     "data": {
      "text/html": [
       "<pre style=\"white-space:pre;overflow-x:auto;line-height:normal;font-family:Menlo,'DejaVu Sans Mono',consolas,'Courier New',monospace\"></pre>\n"
      ],
      "text/plain": []
     },
     "metadata": {},
     "output_type": "display_data"
    }
   ],
   "source": [
    "res = ds.head()\n",
    "\n",
    "for dp in res:\n",
    "    dataset_url = dp.download_url"
   ]
  },
  {
   "cell_type": "code",
   "execution_count": 5,
   "id": "fd8a21fe",
   "metadata": {},
   "outputs": [
    {
     "data": {
      "text/plain": [
       "'https://dagshub.com/api/v1/repos/pedromonnt/fiap-credit-score-classification-model/raw/main/data/processed/train-processed.csv'"
      ]
     },
     "execution_count": 5,
     "metadata": {},
     "output_type": "execute_result"
    }
   ],
   "source": [
    "dataset_url"
   ]
  },
  {
   "cell_type": "code",
   "execution_count": 6,
   "id": "0f96ad7c",
   "metadata": {},
   "outputs": [
    {
     "data": {
      "text/html": [
       "<div>\n",
       "<style scoped>\n",
       "    .dataframe tbody tr th:only-of-type {\n",
       "        vertical-align: middle;\n",
       "    }\n",
       "\n",
       "    .dataframe tbody tr th {\n",
       "        vertical-align: top;\n",
       "    }\n",
       "\n",
       "    .dataframe thead th {\n",
       "        text-align: right;\n",
       "    }\n",
       "</style>\n",
       "<table border=\"1\" class=\"dataframe\">\n",
       "  <thead>\n",
       "    <tr style=\"text-align: right;\">\n",
       "      <th></th>\n",
       "      <th>Age</th>\n",
       "      <th>Annual_Income</th>\n",
       "      <th>Monthly_Inhand_Salary</th>\n",
       "      <th>Num_Bank_Accounts</th>\n",
       "      <th>Num_Credit_Card</th>\n",
       "      <th>Interest_Rate</th>\n",
       "      <th>Num_of_Loan</th>\n",
       "      <th>Delay_from_due_date</th>\n",
       "      <th>Num_of_Delayed_Payment</th>\n",
       "      <th>Changed_Credit_Limit</th>\n",
       "      <th>...</th>\n",
       "      <th>Payment_of_Min_Amount_NM</th>\n",
       "      <th>Payment_of_Min_Amount_No</th>\n",
       "      <th>Payment_of_Min_Amount_Yes</th>\n",
       "      <th>Payment_Behaviour_Desconhecido</th>\n",
       "      <th>Payment_Behaviour_High_spent_Large_value_payments</th>\n",
       "      <th>Payment_Behaviour_High_spent_Medium_value_payments</th>\n",
       "      <th>Payment_Behaviour_High_spent_Small_value_payments</th>\n",
       "      <th>Payment_Behaviour_Low_spent_Large_value_payments</th>\n",
       "      <th>Payment_Behaviour_Low_spent_Medium_value_payments</th>\n",
       "      <th>Payment_Behaviour_Low_spent_Small_value_payments</th>\n",
       "    </tr>\n",
       "  </thead>\n",
       "  <tbody>\n",
       "    <tr>\n",
       "      <th>0</th>\n",
       "      <td>23.0</td>\n",
       "      <td>19114.12</td>\n",
       "      <td>1824.843333</td>\n",
       "      <td>3.0</td>\n",
       "      <td>4.0</td>\n",
       "      <td>3.0</td>\n",
       "      <td>4.0</td>\n",
       "      <td>3.0</td>\n",
       "      <td>7.0</td>\n",
       "      <td>11.27</td>\n",
       "      <td>...</td>\n",
       "      <td>0</td>\n",
       "      <td>1</td>\n",
       "      <td>0</td>\n",
       "      <td>0</td>\n",
       "      <td>0</td>\n",
       "      <td>0</td>\n",
       "      <td>1</td>\n",
       "      <td>0</td>\n",
       "      <td>0</td>\n",
       "      <td>0</td>\n",
       "    </tr>\n",
       "    <tr>\n",
       "      <th>1</th>\n",
       "      <td>23.0</td>\n",
       "      <td>19114.12</td>\n",
       "      <td>3093.745000</td>\n",
       "      <td>3.0</td>\n",
       "      <td>4.0</td>\n",
       "      <td>3.0</td>\n",
       "      <td>4.0</td>\n",
       "      <td>-1.0</td>\n",
       "      <td>14.0</td>\n",
       "      <td>11.27</td>\n",
       "      <td>...</td>\n",
       "      <td>0</td>\n",
       "      <td>1</td>\n",
       "      <td>0</td>\n",
       "      <td>0</td>\n",
       "      <td>0</td>\n",
       "      <td>0</td>\n",
       "      <td>0</td>\n",
       "      <td>1</td>\n",
       "      <td>0</td>\n",
       "      <td>0</td>\n",
       "    </tr>\n",
       "    <tr>\n",
       "      <th>2</th>\n",
       "      <td>-3.0</td>\n",
       "      <td>19114.12</td>\n",
       "      <td>3093.745000</td>\n",
       "      <td>3.0</td>\n",
       "      <td>4.0</td>\n",
       "      <td>3.0</td>\n",
       "      <td>4.0</td>\n",
       "      <td>3.0</td>\n",
       "      <td>7.0</td>\n",
       "      <td>9.40</td>\n",
       "      <td>...</td>\n",
       "      <td>0</td>\n",
       "      <td>1</td>\n",
       "      <td>0</td>\n",
       "      <td>0</td>\n",
       "      <td>0</td>\n",
       "      <td>0</td>\n",
       "      <td>0</td>\n",
       "      <td>0</td>\n",
       "      <td>1</td>\n",
       "      <td>0</td>\n",
       "    </tr>\n",
       "    <tr>\n",
       "      <th>3</th>\n",
       "      <td>23.0</td>\n",
       "      <td>19114.12</td>\n",
       "      <td>3093.745000</td>\n",
       "      <td>3.0</td>\n",
       "      <td>4.0</td>\n",
       "      <td>3.0</td>\n",
       "      <td>4.0</td>\n",
       "      <td>5.0</td>\n",
       "      <td>4.0</td>\n",
       "      <td>6.27</td>\n",
       "      <td>...</td>\n",
       "      <td>0</td>\n",
       "      <td>1</td>\n",
       "      <td>0</td>\n",
       "      <td>0</td>\n",
       "      <td>0</td>\n",
       "      <td>0</td>\n",
       "      <td>0</td>\n",
       "      <td>0</td>\n",
       "      <td>0</td>\n",
       "      <td>1</td>\n",
       "    </tr>\n",
       "    <tr>\n",
       "      <th>4</th>\n",
       "      <td>23.0</td>\n",
       "      <td>19114.12</td>\n",
       "      <td>1824.843333</td>\n",
       "      <td>3.0</td>\n",
       "      <td>4.0</td>\n",
       "      <td>3.0</td>\n",
       "      <td>4.0</td>\n",
       "      <td>6.0</td>\n",
       "      <td>14.0</td>\n",
       "      <td>11.27</td>\n",
       "      <td>...</td>\n",
       "      <td>0</td>\n",
       "      <td>1</td>\n",
       "      <td>0</td>\n",
       "      <td>0</td>\n",
       "      <td>0</td>\n",
       "      <td>1</td>\n",
       "      <td>0</td>\n",
       "      <td>0</td>\n",
       "      <td>0</td>\n",
       "      <td>0</td>\n",
       "    </tr>\n",
       "  </tbody>\n",
       "</table>\n",
       "<p>5 rows × 48 columns</p>\n",
       "</div>"
      ],
      "text/plain": [
       "    Age  Annual_Income  Monthly_Inhand_Salary  Num_Bank_Accounts  \\\n",
       "0  23.0       19114.12            1824.843333                3.0   \n",
       "1  23.0       19114.12            3093.745000                3.0   \n",
       "2  -3.0       19114.12            3093.745000                3.0   \n",
       "3  23.0       19114.12            3093.745000                3.0   \n",
       "4  23.0       19114.12            1824.843333                3.0   \n",
       "\n",
       "   Num_Credit_Card  Interest_Rate  Num_of_Loan  Delay_from_due_date  \\\n",
       "0              4.0            3.0          4.0                  3.0   \n",
       "1              4.0            3.0          4.0                 -1.0   \n",
       "2              4.0            3.0          4.0                  3.0   \n",
       "3              4.0            3.0          4.0                  5.0   \n",
       "4              4.0            3.0          4.0                  6.0   \n",
       "\n",
       "   Num_of_Delayed_Payment  Changed_Credit_Limit  ...  \\\n",
       "0                     7.0                 11.27  ...   \n",
       "1                    14.0                 11.27  ...   \n",
       "2                     7.0                  9.40  ...   \n",
       "3                     4.0                  6.27  ...   \n",
       "4                    14.0                 11.27  ...   \n",
       "\n",
       "   Payment_of_Min_Amount_NM  Payment_of_Min_Amount_No  \\\n",
       "0                         0                         1   \n",
       "1                         0                         1   \n",
       "2                         0                         1   \n",
       "3                         0                         1   \n",
       "4                         0                         1   \n",
       "\n",
       "   Payment_of_Min_Amount_Yes  Payment_Behaviour_Desconhecido  \\\n",
       "0                          0                               0   \n",
       "1                          0                               0   \n",
       "2                          0                               0   \n",
       "3                          0                               0   \n",
       "4                          0                               0   \n",
       "\n",
       "   Payment_Behaviour_High_spent_Large_value_payments  \\\n",
       "0                                                  0   \n",
       "1                                                  0   \n",
       "2                                                  0   \n",
       "3                                                  0   \n",
       "4                                                  0   \n",
       "\n",
       "   Payment_Behaviour_High_spent_Medium_value_payments  \\\n",
       "0                                                  0    \n",
       "1                                                  0    \n",
       "2                                                  0    \n",
       "3                                                  0    \n",
       "4                                                  1    \n",
       "\n",
       "   Payment_Behaviour_High_spent_Small_value_payments  \\\n",
       "0                                                  1   \n",
       "1                                                  0   \n",
       "2                                                  0   \n",
       "3                                                  0   \n",
       "4                                                  0   \n",
       "\n",
       "   Payment_Behaviour_Low_spent_Large_value_payments  \\\n",
       "0                                                 0   \n",
       "1                                                 1   \n",
       "2                                                 0   \n",
       "3                                                 0   \n",
       "4                                                 0   \n",
       "\n",
       "   Payment_Behaviour_Low_spent_Medium_value_payments  \\\n",
       "0                                                  0   \n",
       "1                                                  0   \n",
       "2                                                  1   \n",
       "3                                                  0   \n",
       "4                                                  0   \n",
       "\n",
       "   Payment_Behaviour_Low_spent_Small_value_payments  \n",
       "0                                                 0  \n",
       "1                                                 0  \n",
       "2                                                 0  \n",
       "3                                                 1  \n",
       "4                                                 0  \n",
       "\n",
       "[5 rows x 48 columns]"
      ]
     },
     "execution_count": 6,
     "metadata": {},
     "output_type": "execute_result"
    }
   ],
   "source": [
    "df = pd.read_csv(dataset_url)\n",
    "df.head()"
   ]
  },
  {
   "cell_type": "markdown",
   "id": "5f275400",
   "metadata": {},
   "source": [
    "## Desenvolvimento e experimentos de modelos"
   ]
  },
  {
   "cell_type": "code",
   "execution_count": 7,
   "id": "9958e5ed",
   "metadata": {},
   "outputs": [
    {
     "data": {
      "text/html": [
       "<pre style=\"white-space:pre;overflow-x:auto;line-height:normal;font-family:Menlo,'DejaVu Sans Mono',consolas,'Courier New',monospace\">Initialized MLflow to track repo <span style=\"color: #008000; text-decoration-color: #008000\">\"pedromonnt/fiap-credit-score-classification-model\"</span>\n",
       "</pre>\n"
      ],
      "text/plain": [
       "Initialized MLflow to track repo \u001b[32m\"pedromonnt/fiap-credit-score-classification-model\"\u001b[0m\n"
      ]
     },
     "metadata": {},
     "output_type": "display_data"
    },
    {
     "data": {
      "text/html": [
       "<pre style=\"white-space:pre;overflow-x:auto;line-height:normal;font-family:Menlo,'DejaVu Sans Mono',consolas,'Courier New',monospace\">Repository pedromonnt/fiap-credit-score-classification-model initialized!\n",
       "</pre>\n"
      ],
      "text/plain": [
       "Repository pedromonnt/fiap-credit-score-classification-model initialized!\n"
      ]
     },
     "metadata": {},
     "output_type": "display_data"
    }
   ],
   "source": [
    "dagshub.init(repo_owner=\"pedromonnt\", repo_name=\"fiap-credit-score-classification-model\", mlflow=True)"
   ]
  },
  {
   "cell_type": "code",
   "execution_count": 8,
   "id": "a8f8cc27",
   "metadata": {},
   "outputs": [
    {
     "name": "stderr",
     "output_type": "stream",
     "text": [
      "2025/07/18 01:23:00 INFO mlflow.tracking.fluent: Autologging successfully enabled for lightgbm.\n",
      "2025/07/18 01:23:01 INFO mlflow.tracking.fluent: Autologging successfully enabled for sklearn.\n",
      "2025/07/18 01:23:01 INFO mlflow.tracking.fluent: Autologging successfully enabled for xgboost.\n"
     ]
    }
   ],
   "source": [
    "mlflow.autolog()"
   ]
  },
  {
   "cell_type": "code",
   "execution_count": 9,
   "id": "6216e74d",
   "metadata": {},
   "outputs": [],
   "source": [
    "# Features e Target do conjunto de treino\n",
    "y = df['Credit_Score']\n",
    "X = df.drop(columns='Credit_Score')\n",
    "\n",
    "# Dividir o conjunto de TREINO em treino e VALIDAÇÃO\n",
    "X_train, X_val, y_train, y_val = train_test_split(X, y, test_size=0.2, random_state=42, stratify=y)"
   ]
  },
  {
   "cell_type": "code",
   "execution_count": 10,
   "id": "e832f424",
   "metadata": {},
   "outputs": [],
   "source": [
    "def evaluate_and_log_model(kind, model_name, model, X_val, y_val):\n",
    "    predictions = model.predict(X_val)\n",
    "    pred_proba = model.predict_proba(X_val)\n",
    "\n",
    "    # Métricas\n",
    "    accuracy = accuracy_score(y_val, predictions)\n",
    "    f1 = f1_score(y_val, predictions, average='weighted')\n",
    "    precision = precision_score(y_val, predictions, average='weighted')\n",
    "    recall = recall_score(y_val, predictions, average='weighted')\n",
    "    roc_auc = roc_auc_score(y_val, pred_proba, multi_class='ovr', average='weighted')\n",
    "\n",
    "    print(f\"Resultados para {model_name}:\")\n",
    "    print(f\"  Acurácia: {accuracy:.4f}\")\n",
    "    print(f\"  F1-Score (Weighted): {f1:.4f}\")\n",
    "    print(f\"  ROC AUC (Weighted): {roc_auc:.4f}\")\n",
    "\n",
    "    # Log de Métricas no MLflow\n",
    "    mlflow.log_metric(\"accuracy\", accuracy)\n",
    "    mlflow.log_metric(\"f1_weighted\", f1)\n",
    "    mlflow.log_metric(\"precision_weighted\", precision)\n",
    "    mlflow.log_metric(\"recall_weighted\", recall)\n",
    "    mlflow.log_metric(\"roc_auc_weighted\", roc_auc)\n",
    "\n",
    "    signature = infer_signature(X_val, predictions)\n",
    "\n",
    "    if kind == \"catboost\":\n",
    "        mlflow.catboost.log_model(model, model_name, signature=signature, input_example=X_val[:5])\n",
    "    elif kind == \"xgboost\":\n",
    "        mlflow.xgboost.log_model(model, model_name, signature=signature, input_example=X_val[:5])\n",
    "    elif kind == \"lightgbm\":\n",
    "        mlflow.lightgbm.log_model(model, model_name, signature=signature, input_example=X_val[:5])\n",
    "    else:\n",
    "        mlflow.sklearn.log_model(model, model_name, signature=signature, input_example=X_val[:5])\n",
    "\n",
    "    print(f\"Model {model_name} logged with accuracy: {accuracy}, f1_weighted: {f1}, precision_weighted: {precision}, recall_weighted: {recall}, roc_auc_weighted: {roc_auc}\")\n",
    "\n",
    "    # Log do Relatório de Classificação como artefato de texto\n",
    "    report = classification_report(y_val, predictions)\n",
    "    mlflow.log_text(report, \"classification_report.txt\")\n",
    "\n",
    "    # Log do modelo\n",
    "    mlflow.sklearn.log_model(model, model_name)"
   ]
  },
  {
   "cell_type": "markdown",
   "id": "3588d524",
   "metadata": {},
   "source": [
    "### Modelo 1: Regressão Logística"
   ]
  },
  {
   "cell_type": "code",
   "execution_count": null,
   "id": "5ff13db8",
   "metadata": {},
   "outputs": [
    {
     "name": "stderr",
     "output_type": "stream",
     "text": [
      "2025/07/17 22:15:48 WARNING mlflow.utils.autologging_utils: MLflow autologging encountered a warning: \"c:\\Users\\pedro\\OneDrive\\Área de Trabalho\\mba\\MLOPS\\fiap-credit-score-classification\\fiap-credit-score-classification-model\\.venv\\Lib\\site-packages\\mlflow\\types\\utils.py:452: UserWarning: Hint: Inferred schema contains integer column(s). Integer columns in Python cannot represent missing values. If your input data contains missing values at inference time, it will be encoded as floats and will cause a schema enforcement error. The best way to avoid this problem is to infer the model schema based on a realistic data sample (training dataset) that includes missing values. Alternatively, you can declare integer columns as doubles (float64) whenever these columns may have missing values. See `Handling Integers With Missing Values <https://www.mlflow.org/docs/latest/models.html#handling-integers-with-missing-values>`_ for more details.\"\n",
      "2025/07/17 22:24:47 WARNING mlflow.utils.autologging_utils: MLflow autologging encountered a warning: \"c:\\Users\\pedro\\OneDrive\\Área de Trabalho\\mba\\MLOPS\\fiap-credit-score-classification\\fiap-credit-score-classification-model\\.venv\\Lib\\site-packages\\mlflow\\types\\utils.py:452: UserWarning: Hint: Inferred schema contains integer column(s). Integer columns in Python cannot represent missing values. If your input data contains missing values at inference time, it will be encoded as floats and will cause a schema enforcement error. The best way to avoid this problem is to infer the model schema based on a realistic data sample (training dataset) that includes missing values. Alternatively, you can declare integer columns as doubles (float64) whenever these columns may have missing values. See `Handling Integers With Missing Values <https://www.mlflow.org/docs/latest/models.html#handling-integers-with-missing-values>`_ for more details.\"\n",
      "2025/07/17 22:25:11 INFO mlflow.sklearn.utils: Logging the 5 best runs, one run will be omitted.\n"
     ]
    },
    {
     "name": "stdout",
     "output_type": "stream",
     "text": [
      "🏃 View run rumbling-jay-424 at: https://dagshub.com/pedromonnt/fiap-credit-score-classification-model.mlflow/#/experiments/0/runs/d230974a3fd44c428684444ad9ff652d\n",
      "🧪 View experiment at: https://dagshub.com/pedromonnt/fiap-credit-score-classification-model.mlflow/#/experiments/0\n",
      "🏃 View run omniscient-shark-973 at: https://dagshub.com/pedromonnt/fiap-credit-score-classification-model.mlflow/#/experiments/0/runs/e7d4dffaaafb4ff899150ea0d159ca5f\n",
      "🧪 View experiment at: https://dagshub.com/pedromonnt/fiap-credit-score-classification-model.mlflow/#/experiments/0\n",
      "🏃 View run unique-foal-487 at: https://dagshub.com/pedromonnt/fiap-credit-score-classification-model.mlflow/#/experiments/0/runs/ab3bd22a518f4e99a330e73c2f32d474\n",
      "🧪 View experiment at: https://dagshub.com/pedromonnt/fiap-credit-score-classification-model.mlflow/#/experiments/0\n",
      "🏃 View run illustrious-toad-920 at: https://dagshub.com/pedromonnt/fiap-credit-score-classification-model.mlflow/#/experiments/0/runs/61c55dc651c847ba9cffb15595e52a91\n",
      "🧪 View experiment at: https://dagshub.com/pedromonnt/fiap-credit-score-classification-model.mlflow/#/experiments/0\n",
      "🏃 View run clean-cat-783 at: https://dagshub.com/pedromonnt/fiap-credit-score-classification-model.mlflow/#/experiments/0/runs/42d4179fa09040c0943861e421cd8bc9\n",
      "🧪 View experiment at: https://dagshub.com/pedromonnt/fiap-credit-score-classification-model.mlflow/#/experiments/0\n",
      "Resultados para logistic_regression:\n",
      "  Acurácia: 0.6288\n",
      "  F1-Score (Weighted): 0.6214\n",
      "  ROC AUC (Weighted): 0.7694\n"
     ]
    },
    {
     "name": "stderr",
     "output_type": "stream",
     "text": [
      "c:\\Users\\pedro\\OneDrive\\Área de Trabalho\\mba\\MLOPS\\fiap-credit-score-classification\\fiap-credit-score-classification-model\\.venv\\Lib\\site-packages\\mlflow\\types\\utils.py:452: UserWarning: Hint: Inferred schema contains integer column(s). Integer columns in Python cannot represent missing values. If your input data contains missing values at inference time, it will be encoded as floats and will cause a schema enforcement error. The best way to avoid this problem is to infer the model schema based on a realistic data sample (training dataset) that includes missing values. Alternatively, you can declare integer columns as doubles (float64) whenever these columns may have missing values. See `Handling Integers With Missing Values <https://www.mlflow.org/docs/latest/models.html#handling-integers-with-missing-values>`_ for more details.\n",
      "  warnings.warn(\n"
     ]
    },
    {
     "data": {
      "application/vnd.jupyter.widget-view+json": {
       "model_id": "51eda091d3274c0cb5b76c26a59dbe4a",
       "version_major": 2,
       "version_minor": 0
      },
      "text/plain": [
       "Downloading artifacts:   0%|          | 0/7 [00:00<?, ?it/s]"
      ]
     },
     "metadata": {},
     "output_type": "display_data"
    },
    {
     "name": "stdout",
     "output_type": "stream",
     "text": [
      "Model logistic_regression logged with accuracy: 0.6288, f1_weighted: 0.6213540988999845, precision_weighted: 0.6245405785213104, recall_weighted: 0.6288, roc_auc_weighted: 0.7693549318172382\n"
     ]
    },
    {
     "name": "stderr",
     "output_type": "stream",
     "text": [
      "2025/07/17 22:25:48 WARNING mlflow.models.model: Model logged without a signature and input example. Please set `input_example` parameter when logging the model to auto infer the model signature.\n"
     ]
    },
    {
     "name": "stdout",
     "output_type": "stream",
     "text": [
      "🏃 View run Logistic Regression at: https://dagshub.com/pedromonnt/fiap-credit-score-classification-model.mlflow/#/experiments/0/runs/df46dbd0d50e4942a4d4349071a5c338\n",
      "🧪 View experiment at: https://dagshub.com/pedromonnt/fiap-credit-score-classification-model.mlflow/#/experiments/0\n"
     ]
    },
    {
     "name": "stdout",
     "output_type": "stream",
     "text": [
      "🏃 View run sedate-conch-674 at: https://dagshub.com/pedromonnt/fiap-credit-score-classification-model.mlflow/#/experiments/0/runs/2223b970f6684eef9c75fa67a641c2bb\n",
      "🧪 View experiment at: https://dagshub.com/pedromonnt/fiap-credit-score-classification-model.mlflow/#/experiments/0\n",
      "🏃 View run loud-shark-799 at: https://dagshub.com/pedromonnt/fiap-credit-score-classification-model.mlflow/#/experiments/0/runs/4e91bf93ced2431ca1762583e21c9fea\n",
      "🧪 View experiment at: https://dagshub.com/pedromonnt/fiap-credit-score-classification-model.mlflow/#/experiments/0\n",
      "🏃 View run stylish-dove-99 at: https://dagshub.com/pedromonnt/fiap-credit-score-classification-model.mlflow/#/experiments/0/runs/f95d0c4ae62142429057834feba530c2\n",
      "🧪 View experiment at: https://dagshub.com/pedromonnt/fiap-credit-score-classification-model.mlflow/#/experiments/0\n",
      "🏃 View run resilient-shad-188 at: https://dagshub.com/pedromonnt/fiap-credit-score-classification-model.mlflow/#/experiments/0/runs/56a495f635544079a8569dc3f28414cd\n",
      "🧪 View experiment at: https://dagshub.com/pedromonnt/fiap-credit-score-classification-model.mlflow/#/experiments/0\n",
      "🏃 View run bouncy-mole-3 at: https://dagshub.com/pedromonnt/fiap-credit-score-classification-model.mlflow/#/experiments/0/runs/7ee1ca87c6574d6a8152d634d4e5873f\n",
      "🧪 View experiment at: https://dagshub.com/pedromonnt/fiap-credit-score-classification-model.mlflow/#/experiments/0\n",
      "🏃 View run crawling-dog-316 at: https://dagshub.com/pedromonnt/fiap-credit-score-classification-model.mlflow/#/experiments/0/runs/86ee8de2312d4f08aa487669e541a4c1\n",
      "🧪 View experiment at: https://dagshub.com/pedromonnt/fiap-credit-score-classification-model.mlflow/#/experiments/0\n",
      "🏃 View run sassy-roo-57 at: https://dagshub.com/pedromonnt/fiap-credit-score-classification-model.mlflow/#/experiments/0/runs/ee97f683bb294b31801f317009dd8f44\n",
      "🧪 View experiment at: https://dagshub.com/pedromonnt/fiap-credit-score-classification-model.mlflow/#/experiments/0\n",
      "🏃 View run inquisitive-jay-789 at: https://dagshub.com/pedromonnt/fiap-credit-score-classification-model.mlflow/#/experiments/0/runs/395ca7106178411482e079f14cafa3b2\n",
      "🧪 View experiment at: https://dagshub.com/pedromonnt/fiap-credit-score-classification-model.mlflow/#/experiments/0\n",
      "🏃 View run illustrious-bat-728 at: https://dagshub.com/pedromonnt/fiap-credit-score-classification-model.mlflow/#/experiments/0/runs/627e44cd544444608d3e253f51806e15\n",
      "🧪 View experiment at: https://dagshub.com/pedromonnt/fiap-credit-score-classification-model.mlflow/#/experiments/0\n",
      "🏃 View run sneaky-mole-894 at: https://dagshub.com/pedromonnt/fiap-credit-score-classification-model.mlflow/#/experiments/0/runs/201ec8fe2cec4d63b1e926cd4af65c6d\n",
      "🧪 View experiment at: https://dagshub.com/pedromonnt/fiap-credit-score-classification-model.mlflow/#/experiments/0\n"
     ]
    }
   ],
   "source": [
    "with mlflow.start_run(run_name=\"Logistic Regression\"):\n",
    "   \n",
    "    # Parâmetros para GridSearchCV\n",
    "    param_grid_lr = {\n",
    "        'C': [0.1, 1.0, 10.0],\n",
    "        'solver': ['liblinear', 'saga']\n",
    "    }\n",
    "    \n",
    "    lr = LogisticRegression(random_state=42, max_iter=1000)\n",
    "\n",
    "    grid_search_lr = GridSearchCV(lr, param_grid_lr, cv=5, scoring='f1_weighted', n_jobs=-1)\n",
    "    grid_search_lr.fit(X_train, y_train)\n",
    "    \n",
    "    best_model_lr = grid_search_lr.best_estimator_\n",
    "    mlflow.log_params(grid_search_lr.best_params_)\n",
    "    \n",
    "    evaluate_and_log_model(\"sklearn\", \"logistic_regression\", best_model_lr, X_val, y_val)"
   ]
  },
  {
   "cell_type": "markdown",
   "id": "9d4d8272",
   "metadata": {},
   "source": [
    "### Modelo 2: Árvore de Decisão"
   ]
  },
  {
   "cell_type": "code",
   "execution_count": 25,
   "id": "43a75b9d",
   "metadata": {},
   "outputs": [
    {
     "name": "stderr",
     "output_type": "stream",
     "text": [
      "2025/07/17 22:26:06 WARNING mlflow.utils.autologging_utils: MLflow autologging encountered a warning: \"c:\\Users\\pedro\\OneDrive\\Área de Trabalho\\mba\\MLOPS\\fiap-credit-score-classification\\fiap-credit-score-classification-model\\.venv\\Lib\\site-packages\\mlflow\\types\\utils.py:452: UserWarning: Hint: Inferred schema contains integer column(s). Integer columns in Python cannot represent missing values. If your input data contains missing values at inference time, it will be encoded as floats and will cause a schema enforcement error. The best way to avoid this problem is to infer the model schema based on a realistic data sample (training dataset) that includes missing values. Alternatively, you can declare integer columns as doubles (float64) whenever these columns may have missing values. See `Handling Integers With Missing Values <https://www.mlflow.org/docs/latest/models.html#handling-integers-with-missing-values>`_ for more details.\"\n",
      "2025/07/17 22:27:34 WARNING mlflow.utils.autologging_utils: MLflow autologging encountered a warning: \"c:\\Users\\pedro\\OneDrive\\Área de Trabalho\\mba\\MLOPS\\fiap-credit-score-classification\\fiap-credit-score-classification-model\\.venv\\Lib\\site-packages\\mlflow\\types\\utils.py:452: UserWarning: Hint: Inferred schema contains integer column(s). Integer columns in Python cannot represent missing values. If your input data contains missing values at inference time, it will be encoded as floats and will cause a schema enforcement error. The best way to avoid this problem is to infer the model schema based on a realistic data sample (training dataset) that includes missing values. Alternatively, you can declare integer columns as doubles (float64) whenever these columns may have missing values. See `Handling Integers With Missing Values <https://www.mlflow.org/docs/latest/models.html#handling-integers-with-missing-values>`_ for more details.\"\n",
      "2025/07/17 22:27:51 INFO mlflow.sklearn.utils: Logging the 5 best runs, 22 runs will be omitted.\n"
     ]
    },
    {
     "name": "stdout",
     "output_type": "stream",
     "text": [
      "Resultados para decision_tree_classifier:\n",
      "  Acurácia: 0.7088\n",
      "  F1-Score (Weighted): 0.7110\n",
      "  ROC AUC (Weighted): 0.8311\n"
     ]
    },
    {
     "name": "stderr",
     "output_type": "stream",
     "text": [
      "c:\\Users\\pedro\\OneDrive\\Área de Trabalho\\mba\\MLOPS\\fiap-credit-score-classification\\fiap-credit-score-classification-model\\.venv\\Lib\\site-packages\\mlflow\\types\\utils.py:452: UserWarning: Hint: Inferred schema contains integer column(s). Integer columns in Python cannot represent missing values. If your input data contains missing values at inference time, it will be encoded as floats and will cause a schema enforcement error. The best way to avoid this problem is to infer the model schema based on a realistic data sample (training dataset) that includes missing values. Alternatively, you can declare integer columns as doubles (float64) whenever these columns may have missing values. See `Handling Integers With Missing Values <https://www.mlflow.org/docs/latest/models.html#handling-integers-with-missing-values>`_ for more details.\n",
      "  warnings.warn(\n"
     ]
    },
    {
     "data": {
      "application/vnd.jupyter.widget-view+json": {
       "model_id": "25d72fbf8ce94d56ae23ab0d091fa981",
       "version_major": 2,
       "version_minor": 0
      },
      "text/plain": [
       "Downloading artifacts:   0%|          | 0/7 [00:00<?, ?it/s]"
      ]
     },
     "metadata": {},
     "output_type": "display_data"
    },
    {
     "name": "stdout",
     "output_type": "stream",
     "text": [
      "Model decision_tree_classifier logged with accuracy: 0.70885, f1_weighted: 0.7110410036315017, precision_weighted: 0.7159983852334575, recall_weighted: 0.70885, roc_auc_weighted: 0.8311445429371924\n"
     ]
    },
    {
     "name": "stderr",
     "output_type": "stream",
     "text": [
      "2025/07/17 22:28:30 WARNING mlflow.models.model: Model logged without a signature and input example. Please set `input_example` parameter when logging the model to auto infer the model signature.\n"
     ]
    },
    {
     "name": "stdout",
     "output_type": "stream",
     "text": [
      "🏃 View run Decision Tree Classifier at: https://dagshub.com/pedromonnt/fiap-credit-score-classification-model.mlflow/#/experiments/0/runs/d7912ddd228a40e996e5c4ffe7934d5e\n",
      "🧪 View experiment at: https://dagshub.com/pedromonnt/fiap-credit-score-classification-model.mlflow/#/experiments/0\n"
     ]
    }
   ],
   "source": [
    "with mlflow.start_run(run_name=\"Decision Tree Classifier\"):\n",
    "    dt = DecisionTreeClassifier(random_state=42)\n",
    "    \n",
    "    param_grid_dt = {\n",
    "        'max_depth': [5, 10, None],\n",
    "        'min_samples_split': [2, 5, 10],\n",
    "        'min_samples_leaf': [1, 2, 4]\n",
    "    }\n",
    "    \n",
    "    grid_search_dt = GridSearchCV(dt, param_grid_dt, cv=5, scoring='f1_weighted', n_jobs=-1)\n",
    "    grid_search_dt.fit(X_train, y_train)\n",
    "\n",
    "    best_model_dt = grid_search_dt.best_estimator_\n",
    "    mlflow.log_params(grid_search_dt.best_params_)\n",
    "\n",
    "    evaluate_and_log_model(\"sklearn\", \"decision_tree_classifier\", best_model_dt, X_val, y_val)"
   ]
  },
  {
   "cell_type": "markdown",
   "id": "1b04deed",
   "metadata": {},
   "source": [
    "### Modelo 3: XGBoost Classifier"
   ]
  },
  {
   "cell_type": "code",
   "execution_count": 11,
   "id": "084279a6",
   "metadata": {},
   "outputs": [
    {
     "name": "stderr",
     "output_type": "stream",
     "text": [
      "2025/07/18 01:23:56 WARNING mlflow.utils.autologging_utils: MLflow autologging encountered a warning: \"c:\\Users\\pedro\\OneDrive\\Área de Trabalho\\mba\\MLOPS\\fiap-credit-score-classification\\fiap-credit-score-classification-model\\.venv\\Lib\\site-packages\\mlflow\\types\\utils.py:452: UserWarning: Hint: Inferred schema contains integer column(s). Integer columns in Python cannot represent missing values. If your input data contains missing values at inference time, it will be encoded as floats and will cause a schema enforcement error. The best way to avoid this problem is to infer the model schema based on a realistic data sample (training dataset) that includes missing values. Alternatively, you can declare integer columns as doubles (float64) whenever these columns may have missing values. See `Handling Integers With Missing Values <https://www.mlflow.org/docs/latest/models.html#handling-integers-with-missing-values>`_ for more details.\"\n",
      "2025/07/18 01:28:38 WARNING mlflow.utils.autologging_utils: MLflow autologging encountered a warning: \"c:\\Users\\pedro\\OneDrive\\Área de Trabalho\\mba\\MLOPS\\fiap-credit-score-classification\\fiap-credit-score-classification-model\\.venv\\Lib\\site-packages\\mlflow\\types\\utils.py:452: UserWarning: Hint: Inferred schema contains integer column(s). Integer columns in Python cannot represent missing values. If your input data contains missing values at inference time, it will be encoded as floats and will cause a schema enforcement error. The best way to avoid this problem is to infer the model schema based on a realistic data sample (training dataset) that includes missing values. Alternatively, you can declare integer columns as doubles (float64) whenever these columns may have missing values. See `Handling Integers With Missing Values <https://www.mlflow.org/docs/latest/models.html#handling-integers-with-missing-values>`_ for more details.\"\n",
      "2025/07/18 01:29:07 INFO mlflow.sklearn.utils: Logging the 5 best runs, 19 runs will be omitted.\n"
     ]
    },
    {
     "name": "stdout",
     "output_type": "stream",
     "text": [
      "🏃 View run grandiose-ox-162 at: https://dagshub.com/pedromonnt/fiap-credit-score-classification-model.mlflow/#/experiments/0/runs/2bcc9f111c6f4cf7845dec68049b527b\n",
      "🧪 View experiment at: https://dagshub.com/pedromonnt/fiap-credit-score-classification-model.mlflow/#/experiments/0\n",
      "🏃 View run intrigued-koi-313 at: https://dagshub.com/pedromonnt/fiap-credit-score-classification-model.mlflow/#/experiments/0/runs/e9db21c7b76447dfae0a57f40e2f2271\n",
      "🧪 View experiment at: https://dagshub.com/pedromonnt/fiap-credit-score-classification-model.mlflow/#/experiments/0\n",
      "🏃 View run judicious-smelt-708 at: https://dagshub.com/pedromonnt/fiap-credit-score-classification-model.mlflow/#/experiments/0/runs/244d80a25f6b4d82a31fa891a927e0af\n",
      "🧪 View experiment at: https://dagshub.com/pedromonnt/fiap-credit-score-classification-model.mlflow/#/experiments/0\n",
      "🏃 View run placid-sloth-14 at: https://dagshub.com/pedromonnt/fiap-credit-score-classification-model.mlflow/#/experiments/0/runs/aea77a9fd0de440fbd381c58c8acf33f\n",
      "🧪 View experiment at: https://dagshub.com/pedromonnt/fiap-credit-score-classification-model.mlflow/#/experiments/0\n",
      "🏃 View run clean-mare-840 at: https://dagshub.com/pedromonnt/fiap-credit-score-classification-model.mlflow/#/experiments/0/runs/c48280918d2841d49071aaf97ede500a\n",
      "🧪 View experiment at: https://dagshub.com/pedromonnt/fiap-credit-score-classification-model.mlflow/#/experiments/0\n",
      "Resultados para xgboost_classifier:\n",
      "  Acurácia: 0.7620\n",
      "  F1-Score (Weighted): 0.7618\n",
      "  ROC AUC (Weighted): 0.8782\n"
     ]
    },
    {
     "name": "stderr",
     "output_type": "stream",
     "text": [
      "c:\\Users\\pedro\\OneDrive\\Área de Trabalho\\mba\\MLOPS\\fiap-credit-score-classification\\fiap-credit-score-classification-model\\.venv\\Lib\\site-packages\\mlflow\\types\\utils.py:452: UserWarning: Hint: Inferred schema contains integer column(s). Integer columns in Python cannot represent missing values. If your input data contains missing values at inference time, it will be encoded as floats and will cause a schema enforcement error. The best way to avoid this problem is to infer the model schema based on a realistic data sample (training dataset) that includes missing values. Alternatively, you can declare integer columns as doubles (float64) whenever these columns may have missing values. See `Handling Integers With Missing Values <https://www.mlflow.org/docs/latest/models.html#handling-integers-with-missing-values>`_ for more details.\n",
      "  warnings.warn(\n",
      "c:\\Users\\pedro\\OneDrive\\Área de Trabalho\\mba\\MLOPS\\fiap-credit-score-classification\\fiap-credit-score-classification-model\\.venv\\Lib\\site-packages\\xgboost\\sklearn.py:1028: UserWarning: [01:29:28] WARNING: C:\\actions-runner\\_work\\xgboost\\xgboost\\src\\c_api\\c_api.cc:1427: Saving model in the UBJSON format as default.  You can use file extension: `json`, `ubj` or `deprecated` to choose between formats.\n",
      "  self.get_booster().save_model(fname)\n"
     ]
    },
    {
     "data": {
      "application/vnd.jupyter.widget-view+json": {
       "model_id": "64e042b0a3bb4e31a6a5cf29dd692eba",
       "version_major": 2,
       "version_minor": 0
      },
      "text/plain": [
       "Downloading artifacts:   0%|          | 0/7 [00:00<?, ?it/s]"
      ]
     },
     "metadata": {},
     "output_type": "display_data"
    },
    {
     "name": "stdout",
     "output_type": "stream",
     "text": [
      "Model xgboost_classifier logged with accuracy: 0.76195, f1_weighted: 0.7617952702484266, precision_weighted: 0.7618689695604779, recall_weighted: 0.76195, roc_auc_weighted: 0.8781685603706157\n"
     ]
    },
    {
     "name": "stderr",
     "output_type": "stream",
     "text": [
      "2025/07/18 01:29:44 WARNING mlflow.models.model: Model logged without a signature and input example. Please set `input_example` parameter when logging the model to auto infer the model signature.\n"
     ]
    },
    {
     "name": "stdout",
     "output_type": "stream",
     "text": [
      "🏃 View run XGBoost Classifier at: https://dagshub.com/pedromonnt/fiap-credit-score-classification-model.mlflow/#/experiments/0/runs/5d002f4a48424c93b985d6ee6e887481\n",
      "🧪 View experiment at: https://dagshub.com/pedromonnt/fiap-credit-score-classification-model.mlflow/#/experiments/0\n"
     ]
    }
   ],
   "source": [
    "with mlflow.start_run(run_name=\"XGBoost Classifier\"):\n",
    "    \n",
    "    xgb = XGBClassifier(random_state=42, eval_metric='mlogloss')\n",
    "    \n",
    "    param_grid_xgb = {\n",
    "        'n_estimators': [100, 200],\n",
    "        'max_depth': [3, 5, 7],\n",
    "        'learning_rate': [0.05, 0.1],\n",
    "        'subsample': [0.8, 1.0]\n",
    "    }\n",
    "    \n",
    "    grid_search_xgb = GridSearchCV(xgb, param_grid_xgb, cv=5, scoring='f1_weighted', n_jobs=-1)\n",
    "    grid_search_xgb.fit(X_train, y_train)\n",
    "\n",
    "    best_model_xgb = grid_search_xgb.best_estimator_\n",
    "    mlflow.log_params(grid_search_xgb.best_params_)\n",
    "    \n",
    "    evaluate_and_log_model(\"xgboost\", \"xgboost_classifier\", best_model_xgb, X_val, y_val)"
   ]
  },
  {
   "cell_type": "markdown",
   "id": "50f57909",
   "metadata": {},
   "source": [
    "## Registro de Modelo em Produção"
   ]
  },
  {
   "cell_type": "code",
   "execution_count": 12,
   "id": "065f17ea",
   "metadata": {},
   "outputs": [
    {
     "name": "stderr",
     "output_type": "stream",
     "text": [
      "Registered model 'credit-score-classification-model' already exists. Creating a new version of this model...\n",
      "2025/07/18 01:30:22 INFO mlflow.store.model_registry.abstract_store: Waiting up to 300 seconds for model version to finish creation. Model name: credit-score-classification-model, version 11\n",
      "Created version '11' of model 'credit-score-classification-model'.\n"
     ]
    },
    {
     "data": {
      "text/plain": [
       "<ModelVersion: aliases=[], creation_timestamp=1752813022398, current_stage='None', description='', last_updated_timestamp=1752813022398, name='credit-score-classification-model', run_id='5d002f4a48424c93b985d6ee6e887481', run_link='', source='mlflow-artifacts:/5cb5e553364e438896ea46ed8538561f/5d002f4a48424c93b985d6ee6e887481/artifacts/model', status='READY', status_message=None, tags={}, user_id='', version='11'>"
      ]
     },
     "execution_count": 12,
     "metadata": {},
     "output_type": "execute_result"
    }
   ],
   "source": [
    "run_id = \"5d002f4a48424c93b985d6ee6e887481\"\n",
    "\n",
    "mlflow.register_model(model_uri=f\"runs:/{run_id}/model\", name=\"credit-score-classification-model\")"
   ]
  },
  {
   "cell_type": "markdown",
   "id": "f8ea7ace",
   "metadata": {},
   "source": []
  }
 ],
 "metadata": {
  "kernelspec": {
   "display_name": ".venv",
   "language": "python",
   "name": "python3"
  },
  "language_info": {
   "codemirror_mode": {
    "name": "ipython",
    "version": 3
   },
   "file_extension": ".py",
   "mimetype": "text/x-python",
   "name": "python",
   "nbconvert_exporter": "python",
   "pygments_lexer": "ipython3",
   "version": "3.13.2"
  }
 },
 "nbformat": 4,
 "nbformat_minor": 5
}
